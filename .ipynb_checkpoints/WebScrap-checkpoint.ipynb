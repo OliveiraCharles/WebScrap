{
 "cells": [
  {
   "cell_type": "markdown",
   "id": "377d60ba",
   "metadata": {},
   "source": [
    "# Passo a passo"
   ]
  },
  {
   "cell_type": "markdown",
   "id": "b7bfd97b",
   "metadata": {},
   "source": [
    "[PDF - Referencia](http://localhost:8888/files/Desafio%20Python-%20P%C3%B3s%20Seguran%C3%A7a%20Cibern%C3%A9tica%20-%20Turma%2001%20-%20Maio.pdf)"
   ]
  },
  {
   "cell_type": "markdown",
   "id": "aec591c8",
   "metadata": {},
   "source": [
    "1. Ler a documentação não oficial [Selenium with Python](https://selenium-python.readthedocs.io/)\n",
    "\n",
    "2. Instalar o Selenium\n",
    "    * No prompt execute o comando digite *pip install selenium* <br><br>\n",
    "3. Instalar WebDriver referente ao navegador a ser utilizado (Essa é a parte dificil)\n",
    "    * Caso queira utilizar o chrome, siga um dos passos descritos em: [Três maneiras de usar drivers](https://www.selenium.dev/documentation/webdriver/getting_started/install_drivers/) <br><br>\n",
    "    \n",
    "4. Instalar o [selenium server](https://selenium-python.readthedocs.io/getting-started.html#selenium-remote-webdriver) (caso queira usar o web driver remotamente)    \n",
    "5. Abrir e Fechar o navegador\n",
    "    * Uma vez que você tenha uma biblioteca Selenium instalada e o driver de navegador desejado, você pode iniciar e interromper uma sessão com um navegador. <br><br>"
   ]
  },
  {
   "cell_type": "code",
   "execution_count": null,
   "id": "3e084eab",
   "metadata": {},
   "outputs": [],
   "source": [
    "# 2. Instalar o Selenium\n",
    "pip install selenium"
   ]
  },
  {
   "cell_type": "code",
   "execution_count": null,
   "id": "a708f58e",
   "metadata": {},
   "outputs": [],
   "source": [
    "# 3. Instalar WebDriver referente ao navegador a ser utilizado (Essa é a parte dificil)\n",
    "\n",
    "from webdriver_manager.chrome import ChromeDriverManager\n",
    "service = Service(executable_path=ChromeDriverManager().install())\n",
    "from webdriver_manager.chrome import ChromeDriverManager"
   ]
  },
  {
   "cell_type": "markdown",
   "id": "6eae70a0",
   "metadata": {},
   "source": [
    "# Teste a partir da Primeira Página"
   ]
  },
  {
   "cell_type": "code",
   "execution_count": 1,
   "id": "81815034",
   "metadata": {},
   "outputs": [
    {
     "name": "stderr",
     "output_type": "stream",
     "text": [
      "\n",
      "\n",
      "====== WebDriver manager ======\n",
      "Current google-chrome version is 101.0.4951\n",
      "Get LATEST chromedriver version for 101.0.4951 google-chrome\n",
      "Driver [C:\\Users\\Charles Oliveira\\.wdm\\drivers\\chromedriver\\win32\\101.0.4951.41\\chromedriver.exe] found in cache\n"
     ]
    },
    {
     "name": "stdout",
     "output_type": "stream",
     "text": [
      "4\n",
      "{'CVE ID': ['CVE-2022-29849', 'CVE-2022-28451', 'CVE-2021-40822', 'CVE-2021-31674', 'CVE-2021-31673', 'CVE-2022-25301', 'CVE-2022-26068', 'CVE-2022-25850', 'CVE-2022-25844', 'CVE-2022-25842', 'CVE-2022-25767', 'CVE-2022-25647', 'CVE-2022-25645', 'CVE-2022-25349', 'CVE-2022-24437', 'CVE-2022-23923', 'CVE-2022-22143', 'CVE-2022-21230', 'CVE-2022-21227', 'CVE-2022-21189'], 'CVE v3.1': ['V3.1: 7.8 HIGH', 'V3.1: 7.5 HIGH', 'V3.1: 7.5 HIGH', 'V3.x:(not available)', 'V3.x:(not available)', 'V3.x:(not available)', 'V3.x:(not available)', 'V3.x:(not available)', 'V3.x:(not available)', 'V3.x:(not available)', 'V3.x:(not available)', 'V3.x:(not available)', 'V3.x:(not available)', 'V3.x:(not available)', 'V3.x:(not available)', 'V3.x:(not available)', 'V3.x:(not available)', 'V3.1: 5.5 MEDIUM', 'V3.1: 7.5 HIGH', 'V3.1: 9.8 CRITICAL'], 'CVE v2.0': ['V2.0: 7.2 HIGH', 'V2.0: 5.0 MEDIUM', 'V2.0: 5.0 MEDIUM', 'V2.0:(not available)', 'V2.0:(not available)', 'V2.0:(not available)', 'V2.0:(not available)', 'V2.0:(not available)', 'V2.0:(not available)', 'V2.0:(not available)', 'V2.0:(not available)', 'V2.0:(not available)', 'V2.0:(not available)', 'V2.0:(not available)', 'V2.0:(not available)', 'V2.0:(not available)', 'V2.0:(not available)', 'V2.0: 2.1 LOW', 'V2.0: 5.0 MEDIUM', 'V2.0: 7.5 HIGH'], 'Descrição': ['In Progress OpenEdge before 11.7.14 and 12.x before 12.2.9, certain SUID binaries within the OpenEdge application were susceptible to privilege escalation. If exploited, a local attacker could elevate their privileges and compromise the affected system.', 'nopCommerce 4.50.1 is vulnerable to Directory Traversal via the backup file in the Maintenance feature.', 'GeoServer through 2.18.5 and 2.19.x through 2.19.2 allows SSRF via the option for setting a proxy host.', 'Cyclos 4 PRO 4.14.7 and before does not validate user input at error inform, which allows remote unauthenticated attacker to execute javascript code via undefine enum constant.', 'A Dom-based Cross-site scripting (XSS) vulnerability at registration account in Cyclos 4 PRO.14.7 and before allows remote attackers to inject arbitrary web script or HTML via the groupId parameter.', 'All versions of package jsgui-lang-essentials are vulnerable to Prototype Pollution due to allowing all Object attributes to be altered, including their magical attributes such as proto, constructor and prototype.', 'This affects the package pistacheio/pistache before 0.0.3.20220425. It is possible to traverse directories to fetch arbitrary files from the server.', 'The package github.com/hoppscotch/proxyscotch before 1.0.0 are vulnerable to Server-side Request Forgery (SSRF) when interceptor mode is set to proxy. It occurs when an HTTP request is made by a backend server to an untrusted URL submitted by a user. It leads to a leakage of sensitive information from the server.', \"The package angular after 1.7.0 are vulnerable to Regular Expression Denial of Service (ReDoS) by providing a custom locale rule that makes it possible to assign the parameter in posPre: ' '.repeat() of NUMBER_FORMATS.PATTERNS[1].posPre with a very high value. **Note:** 1) This package has been deprecated and is no longer maintained. 2) The vulnerable versions are 1.7.0 and higher.\", 'All versions of package com.alibaba.oneagent:one-java-agent-plugin are vulnerable to Arbitrary File Write via Archive Extraction (Zip Slip) using a specially crafted archive that holds directory traversal filenames (e.g. ../../evil.exe). The attacker can overwrite executable files and either invoke them remotely or wait for the system or user to call them, thus achieving remote command execution on the victim’s machine.', 'All versions of package com.bstek.ureport:ureport2-console are vulnerable to Remote Code Execution by connecting to a malicious database server, causing arbitrary file read and deserialization of local gadgets.', 'The package com.google.code.gson:gson before 2.8.9 are vulnerable to Deserialization of Untrusted Data via the writeReplace() method in internal classes, which may lead to DoS attacks.', \"All versions of package dset are vulnerable to Prototype Pollution via 'dset/merge' mode, as the dset function checks for prototype pollution by validating if the top-level path contains __proto__, constructor or protorype. By crafting a malicious object, it is possible to bypass this check and achieve prototype pollution.\", 'All versions of package materialize-css are vulnerable to Cross-site Scripting (XSS) due to improper escape of user input (such as &lt;not-a-tag /&gt;) that is being parsed as HTML/JavaScript, and inserted into the Document Object Model (DOM). This vulnerability can be exploited when the user-input is provided to the autocomplete component.', 'The package git-pull-or-clone before 2.0.2 are vulnerable to Command Injection due to the use of the --upload-pack feature of git which is also supported for git clone. The source includes the use of the secure child process API spawn(). However, the outpath parameter passed to it may be a command-line argument to the git clone command and result in arbitrary command injection.', 'All versions of package jailed are vulnerable to Sandbox Bypass via an exported alert() method which can access the main application. Exported methods are stored in the application.remote object.', 'The package convict before 6.2.2 are vulnerable to Prototype Pollution via the convict function due to missing validation of parentKey. **Note:** This vulnerability derives from an incomplete fix of another [vulnerability](https://security.snyk.io/vuln/SNYK-JS-CONVICT-1062508)', 'This affects all versions of package org.nanohttpd:nanohttpd. Whenever an HTTP Session is parsing the body of an HTTP request, the body of the request is written to a RandomAccessFile when the it is larger than 1024 bytes. This file is created with insecure permissions that allow its contents to be viewed by all users on the host machine. **Workaround:** Manually specifying the -Djava.io.tmpdir= argument when launching Java to set the temporary directory to a directory exclusively controlled by the current user can fix this issue.', 'The package sqlite3 before 5.0.3 are vulnerable to Denial of Service (DoS) which will invoke the toString function of the passed parameter. If passed an invalid Function object it will throw and crash the V8 engine.', 'The package dexie before 3.2.2, from 4.0.0-alpha.1 and before 4.0.0-alpha.3 are vulnerable to Prototype Pollution in the Dexie.setByKeyPath(obj, keyPath, value) function which does not properly check the keys being set (like __proto__ or constructor). This can allow an attacker to add/modify properties of the Object.prototype leading to prototype pollution vulnerability. **Note:** This vulnerability can occur in multiple ways, for example when modifying a collection with untrusted user input.']}\n"
     ]
    }
   ],
   "source": [
    "\n",
    "\n",
    "import time\n",
    "\n",
    "from selenium.webdriver.common.by import By\n",
    "from selenium import webdriver\n",
    "from selenium.webdriver.chrome.service import Service\n",
    "from selenium.webdriver.common.keys import Keys # Necessário para enviar caracteres especiais no comando .send_keys()\n",
    "from webdriver_manager.chrome import ChromeDriverManager\n",
    "\n",
    "driver = webdriver.Chrome(service=Service(ChromeDriverManager().install()))\n",
    "\n",
    "# Definir site\n",
    "Site = \"https://nvd.nist.gov/vuln/search\"\n",
    "\n",
    "# Abrir o site\n",
    "driver.get(Site)\n",
    "\n",
    "# Ativar (radio button) busca avançada\n",
    "AdvavancedSearch = driver.find_element(value='SearchTypeAdvanced')\n",
    "AdvavancedSearch.click()\n",
    "\n",
    "# Encontrar os elementos Data inicial e Data final\n",
    "StartDate = driver.find_element(value='published-start-date')\n",
    "StartDate.clear()\n",
    "\n",
    "EndDate = driver.find_element(value='published-end-date')#find_element_by_name('pub_end_date')\n",
    "EndDate.clear()\n",
    "\n",
    "# inserir nos elementos os valores de Data inicial e Data final\n",
    "StartDate.send_keys('01012022')\n",
    "EndDate.send_keys('05012022')\n",
    "\n",
    "# Clicar no botão \"Search\"\n",
    "SubmitSearch = driver.find_element(value='vuln-search-submit')\n",
    "SubmitSearch.click()\n",
    "time.sleep(3)\n",
    "\n",
    "\n",
    "# Encontrar lista de vulnerabilidades\n",
    "    # Colunas: CVE - Descrição - Pontuação \n",
    "    \n",
    "def  Receba(Caminho):\n",
    "    Elemento = driver.find_elements(By.XPATH , Caminho) # contem \"Elemento\" Tabela resultado da pesquisa\n",
    "    Lista = []\n",
    "    for item in Elemento:\n",
    "        Lista.append(item.text)\n",
    "    return Lista\n",
    "\n",
    "Tabela={}\n",
    "Tabela.update({'CVE ID': Receba('//*/tbody/tr/th/strong/a')})\n",
    "Tabela.update({'CVE v3.1': Receba('//*/tbody/tr/td[2]/span[1]')})\n",
    "Tabela.update({'CVE v2.0': Receba('//*/tbody/tr/td[2]/span[2]')})\n",
    "Tabela.update({'Descrição': Receba('//*/tbody/tr/td[1]/p')})\n",
    "\n",
    "\n",
    "print(len(Tabela['CV']))\n",
    "print(Tabela)\n",
    "\n",
    "# encerrar o navegador\n",
    "time.sleep(5)\n",
    "driver.quit()\n",
    "\n",
    "# Fechar a aba do navegador\n",
    "#driver.close()"
   ]
  },
  {
   "cell_type": "markdown",
   "id": "06dfa50a",
   "metadata": {},
   "source": [
    "# Teste a partir da Segunda página (Busca por tag)"
   ]
  },
  {
   "cell_type": "code",
   "execution_count": null,
   "id": "70df1b81",
   "metadata": {},
   "outputs": [],
   "source": [
    "import time\n",
    "\n",
    "from selenium.webdriver.common.by import By\n",
    "from selenium import webdriver\n",
    "from selenium.webdriver.chrome.service import Service\n",
    "from selenium.webdriver.common.keys import Keys # Necessário para enviar caracteres especiais no comando .send_keys()\n",
    "from webdriver_manager.chrome import ChromeDriverManager\n",
    "\n",
    "driver = webdriver.Chrome(service=Service(ChromeDriverManager().install()))\n",
    "\n",
    "# Definir site\n",
    "Site = 'https://nvd.nist.gov/vuln/search/results?form_type=Advanced&results_type=overview&search_type=all&isCpeNameSearch=false&pub_start_date=01%2F01%2F2022&pub_end_date=05%2F01%2F2022'\n",
    "\n",
    "# Abrir o site\n",
    "driver.get(Site)\n",
    "time.sleep(2)\n",
    "# Encontrar lista de vulnerabilidades\n",
    "    # Colunas: CVE - Descrição - Pontuação\n",
    "\n",
    "TabelaDeVulnerabilidades = driver.find_element(By.TAG_NAME , 'tbody') # contem \"Elemento\" Tabela resultado da pesquisa\n",
    "\n",
    "ListaDeVulnerabilidades = TabelaDeVulnerabilidades.find_elements(By.TAG_NAME, 'tr') # Contem Lista com Elementos, cada  item da lista é ima linha completa\n",
    "\n",
    "\n",
    "desc = []\n",
    "pont = []\n",
    "cve = []\n",
    "Pesquisa = {}\n",
    "Tabela = {}\n",
    "\n",
    "for i in range(len(ListaDeVulnerabilidades)):\n",
    "    Tabela.update({i:ListaDeVulnerabilidades[i].text.split('\\n')})\n",
    "    cve.append(Tabela[i][0])\n",
    "    desc.append(Tabela[i][1])\n",
    "    pont.append(Tabela[i][3])\n",
    "    \n",
    "Tabela.update({'CVE':cve})\n",
    "Tabela.update({'Descrição':desc})\n",
    "Tabela.update({'Pontuação':pont})\n",
    "\n",
    "for item in  Tabela['CVE']:\n",
    "    print(item,'\\n')\n",
    "        \n",
    "    \n",
    "    \n",
    "    \n",
    "# encerrar o navegador\n",
    "time.sleep(15)\n",
    "driver.quit()\n",
    "\n",
    "# Fechar a aba do navegador\n",
    "#driver.close()"
   ]
  },
  {
   "cell_type": "markdown",
   "id": "1a930099",
   "metadata": {},
   "source": [
    "# Teste a partir da Segunda página (Busca por Xpath)"
   ]
  },
  {
   "cell_type": "code",
   "execution_count": 13,
   "id": "40d4c155",
   "metadata": {},
   "outputs": [
    {
     "name": "stderr",
     "output_type": "stream",
     "text": [
      "\n",
      "\n",
      "====== WebDriver manager ======\n",
      "Current google-chrome version is 101.0.4951\n",
      "Get LATEST chromedriver version for 101.0.4951 google-chrome\n",
      "Driver [C:\\Users\\Charles Oliveira\\.wdm\\drivers\\chromedriver\\win32\\101.0.4951.41\\chromedriver.exe] found in cache\n"
     ]
    },
    {
     "name": "stdout",
     "output_type": "stream",
     "text": [
      "4\n",
      "{'CVE ID': ['CVE-2022-29849', 'CVE-2022-28451', 'CVE-2021-40822', 'CVE-2021-31674', 'CVE-2021-31673', 'CVE-2022-25301', 'CVE-2022-26068', 'CVE-2022-25850', 'CVE-2022-25844', 'CVE-2022-25842', 'CVE-2022-25767', 'CVE-2022-25647', 'CVE-2022-25645', 'CVE-2022-25349', 'CVE-2022-24437', 'CVE-2022-23923', 'CVE-2022-22143', 'CVE-2022-21230', 'CVE-2022-21227', 'CVE-2022-21189'], 'CVE v3.1': ['V3.1: 7.8 HIGH', 'V3.1: 7.5 HIGH', 'V3.1: 7.5 HIGH', 'V3.x:(not available)', 'V3.x:(not available)', 'V3.x:(not available)', 'V3.x:(not available)', 'V3.x:(not available)', 'V3.x:(not available)', 'V3.x:(not available)', 'V3.x:(not available)', 'V3.x:(not available)', 'V3.x:(not available)', 'V3.x:(not available)', 'V3.x:(not available)', 'V3.x:(not available)', 'V3.x:(not available)', 'V3.1: 5.5 MEDIUM', 'V3.1: 7.5 HIGH', 'V3.1: 9.8 CRITICAL'], 'CVE v2.0': ['V2.0: 7.2 HIGH', 'V2.0: 5.0 MEDIUM', 'V2.0: 5.0 MEDIUM', 'V2.0:(not available)', 'V2.0:(not available)', 'V2.0:(not available)', 'V2.0:(not available)', 'V2.0:(not available)', 'V2.0:(not available)', 'V2.0:(not available)', 'V2.0:(not available)', 'V2.0:(not available)', 'V2.0:(not available)', 'V2.0:(not available)', 'V2.0:(not available)', 'V2.0:(not available)', 'V2.0:(not available)', 'V2.0: 2.1 LOW', 'V2.0: 5.0 MEDIUM', 'V2.0: 7.5 HIGH'], 'Descrição': ['In Progress OpenEdge before 11.7.14 and 12.x before 12.2.9, certain SUID binaries within the OpenEdge application were susceptible to privilege escalation. If exploited, a local attacker could elevate their privileges and compromise the affected system.', 'nopCommerce 4.50.1 is vulnerable to Directory Traversal via the backup file in the Maintenance feature.', 'GeoServer through 2.18.5 and 2.19.x through 2.19.2 allows SSRF via the option for setting a proxy host.', 'Cyclos 4 PRO 4.14.7 and before does not validate user input at error inform, which allows remote unauthenticated attacker to execute javascript code via undefine enum constant.', 'A Dom-based Cross-site scripting (XSS) vulnerability at registration account in Cyclos 4 PRO.14.7 and before allows remote attackers to inject arbitrary web script or HTML via the groupId parameter.', 'All versions of package jsgui-lang-essentials are vulnerable to Prototype Pollution due to allowing all Object attributes to be altered, including their magical attributes such as proto, constructor and prototype.', 'This affects the package pistacheio/pistache before 0.0.3.20220425. It is possible to traverse directories to fetch arbitrary files from the server.', 'The package github.com/hoppscotch/proxyscotch before 1.0.0 are vulnerable to Server-side Request Forgery (SSRF) when interceptor mode is set to proxy. It occurs when an HTTP request is made by a backend server to an untrusted URL submitted by a user. It leads to a leakage of sensitive information from the server.', \"The package angular after 1.7.0 are vulnerable to Regular Expression Denial of Service (ReDoS) by providing a custom locale rule that makes it possible to assign the parameter in posPre: ' '.repeat() of NUMBER_FORMATS.PATTERNS[1].posPre with a very high value. **Note:** 1) This package has been deprecated and is no longer maintained. 2) The vulnerable versions are 1.7.0 and higher.\", 'All versions of package com.alibaba.oneagent:one-java-agent-plugin are vulnerable to Arbitrary File Write via Archive Extraction (Zip Slip) using a specially crafted archive that holds directory traversal filenames (e.g. ../../evil.exe). The attacker can overwrite executable files and either invoke them remotely or wait for the system or user to call them, thus achieving remote command execution on the victim’s machine.', 'All versions of package com.bstek.ureport:ureport2-console are vulnerable to Remote Code Execution by connecting to a malicious database server, causing arbitrary file read and deserialization of local gadgets.', 'The package com.google.code.gson:gson before 2.8.9 are vulnerable to Deserialization of Untrusted Data via the writeReplace() method in internal classes, which may lead to DoS attacks.', \"All versions of package dset are vulnerable to Prototype Pollution via 'dset/merge' mode, as the dset function checks for prototype pollution by validating if the top-level path contains __proto__, constructor or protorype. By crafting a malicious object, it is possible to bypass this check and achieve prototype pollution.\", 'All versions of package materialize-css are vulnerable to Cross-site Scripting (XSS) due to improper escape of user input (such as &lt;not-a-tag /&gt;) that is being parsed as HTML/JavaScript, and inserted into the Document Object Model (DOM). This vulnerability can be exploited when the user-input is provided to the autocomplete component.', 'The package git-pull-or-clone before 2.0.2 are vulnerable to Command Injection due to the use of the --upload-pack feature of git which is also supported for git clone. The source includes the use of the secure child process API spawn(). However, the outpath parameter passed to it may be a command-line argument to the git clone command and result in arbitrary command injection.', 'All versions of package jailed are vulnerable to Sandbox Bypass via an exported alert() method which can access the main application. Exported methods are stored in the application.remote object.', 'The package convict before 6.2.2 are vulnerable to Prototype Pollution via the convict function due to missing validation of parentKey. **Note:** This vulnerability derives from an incomplete fix of another [vulnerability](https://security.snyk.io/vuln/SNYK-JS-CONVICT-1062508)', 'This affects all versions of package org.nanohttpd:nanohttpd. Whenever an HTTP Session is parsing the body of an HTTP request, the body of the request is written to a RandomAccessFile when the it is larger than 1024 bytes. This file is created with insecure permissions that allow its contents to be viewed by all users on the host machine. **Workaround:** Manually specifying the -Djava.io.tmpdir= argument when launching Java to set the temporary directory to a directory exclusively controlled by the current user can fix this issue.', 'The package sqlite3 before 5.0.3 are vulnerable to Denial of Service (DoS) which will invoke the toString function of the passed parameter. If passed an invalid Function object it will throw and crash the V8 engine.', 'The package dexie before 3.2.2, from 4.0.0-alpha.1 and before 4.0.0-alpha.3 are vulnerable to Prototype Pollution in the Dexie.setByKeyPath(obj, keyPath, value) function which does not properly check the keys being set (like __proto__ or constructor). This can allow an attacker to add/modify properties of the Object.prototype leading to prototype pollution vulnerability. **Note:** This vulnerability can occur in multiple ways, for example when modifying a collection with untrusted user input.']}\n"
     ]
    }
   ],
   "source": [
    "import time\n",
    "\n",
    "from selenium.webdriver.common.by import By\n",
    "from selenium import webdriver\n",
    "from selenium.webdriver.chrome.service import Service\n",
    "from selenium.webdriver.common.keys import Keys # Necessário para enviar caracteres especiais no comando .send_keys()\n",
    "from webdriver_manager.chrome import ChromeDriverManager\n",
    "\n",
    "driver = webdriver.Chrome(service=Service(ChromeDriverManager().install()))\n",
    "\n",
    "# Definir site\n",
    "Site = 'https://nvd.nist.gov/vuln/search/results?form_type=Advanced&results_type=overview&search_type=all&isCpeNameSearch=false&pub_start_date=01%2F01%2F2022&pub_end_date=05%2F01%2F2022'\n",
    "\n",
    "# Abrir o site\n",
    "driver.get(Site)\n",
    "time.sleep(2)\n",
    "# Encontrar lista de vulnerabilidades\n",
    "    # Colunas: CVE ID - Descrição - Pontuação v2.0 e v3.1\n",
    "    \n",
    "    \n",
    "def  Receba(Caminho):\n",
    "    Elemento = driver.find_elements(By.XPATH , Caminho) # contem \"Elemento\" Tabela resultado da pesquisa\n",
    "    Lista = []\n",
    "    for item in Elemento:\n",
    "        Lista.append(item.text)\n",
    "    return Lista\n",
    "\n",
    "# //*[@id=\"cvss3-link\"]/a\n",
    "# /html/body/div[2]/div[2]/div/div[2]/table/tbody/tr[1]/td[2]/span[1]/a\n",
    "# /html/body/div[2]/div[2]/div/div[2]/table/tbody/tr[4]/td[2]\n",
    "# /html/body/div[2]/div[2]/div/div[2]/table/tbody/tr[4]/td[2]/span[1]\n",
    "# /html/body/div[2]/div[2]/div/div[2]/table/tbody/tr[4]/td[1]/span\n",
    "# /html/body/div[2]/div[2]/div/div[2]/table/tbody/tr[4]/th/strong/a\n",
    "# /html/body/div[2]/div[2]/div/div[2]/table/tbody/tr[4]/td[1]/p/text()\n",
    "\n",
    "Tabela={}\n",
    "Tabela.update({'CVE ID': Receba('//*/tbody/tr/th/strong/a')})\n",
    "Tabela.update({'CVE v3.1': Receba('//*/tbody/tr/td[2]/span[1]')})\n",
    "Tabela.update({'CVE v2.0': Receba('//*/tbody/tr/td[2]/span[2]')})\n",
    "Tabela.update({'Descrição': Receba('//*/tbody/tr/td[1]/p')})\n",
    "\n",
    "\n",
    "print(len(Tabela))\n",
    "print(Tabela)\n",
    "\n",
    "# encerrar o navegador\n",
    "time.sleep(5)\n",
    "driver.quit()\n",
    "\n",
    "# Fechar a aba do navegador\n",
    "#driver.close()"
   ]
  }
 ],
 "metadata": {
  "kernelspec": {
   "display_name": "Python 3 (ipykernel)",
   "language": "python",
   "name": "python3"
  },
  "language_info": {
   "codemirror_mode": {
    "name": "ipython",
    "version": 3
   },
   "file_extension": ".py",
   "mimetype": "text/x-python",
   "name": "python",
   "nbconvert_exporter": "python",
   "pygments_lexer": "ipython3",
   "version": "3.9.7"
  }
 },
 "nbformat": 4,
 "nbformat_minor": 5
}
